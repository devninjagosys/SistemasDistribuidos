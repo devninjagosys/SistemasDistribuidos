{
 "cells": [
  {
   "cell_type": "code",
   "execution_count": 17,
   "metadata": {},
   "outputs": [
    {
     "data": {
      "image/png": "[encoded data removed]",
      "text/plain": [
       "<Figure size 432x288 with 1 Axes>"
      ]
     },
     "metadata": {
      "needs_background": "light"
     },
     "output_type": "display_data"
    }
   ],
   "source": [
    "import matplotlib.pyplot as plt\n",
    "img = plt.imread(\"airlines.jpg\")\n",
    "fig, ax = plt.subplots()\n",
    "x = range(300)\n",
    "ax.plot(x, x, '--', linewidth=5, color='firebrick')\n",
    "#ax.imshow(img, extent=[0,5,0,5] )\n",
    "ax.figure.figimage(img,xo=100, yo=100, alpha=.1)\n",
    "plt.show()\n",
    "\n",
    "\n",
    "\n"
   ]
  },
  {
   "cell_type": "code",
   "execution_count": 22,
   "metadata": {},
   "outputs": [
    {
     "data": {
      "text/plain": [
       "<Figure size 432x288 with 0 Axes>"
      ]
     },
     "metadata": {},
     "output_type": "display_data"
    }
   ],
   "source": [
    "import matplotlib.pyplot as plt\n",
    "img = plt.imread(\"airlines.jpg\")\n",
    "fig = plt.figure()\n",
    "x = range(300)\n",
    "im1 = fig.figimage(x, xo=50, yo=0, origin='lower')\n",
    "im2 = fig.figimage(img, xo=100, yo=100, alpha=.1, origin='lower')\n",
    "plt.show()"
   ]
  },
  {
   "cell_type": "code",
   "execution_count": 34,
   "metadata": {},
   "outputs": [
    {
     "data": {
      "text/plain": [
       "<Figure size 432x288 with 0 Axes>"
      ]
     },
     "metadata": {},
     "output_type": "display_data"
    }
   ],
   "source": [
    "%matplotlib inline\n",
    "import numpy as np\n",
    "import matplotlib.pyplot as plt\n",
    "fig = plt.figure()\n",
    "Z = np.arange(10000).reshape((100, 100))\n",
    "Z[:, 50:] = 1\n",
    "\n",
    "im1 = fig.figimage(Z, xo=50, yo=0, origin='lower')\n",
    "im2 = fig.figimage(Z, xo=100, yo=100, alpha=.8, origin='lower')\n",
    "\n",
    "#plt.show()"
   ]
  },
  {
   "cell_type": "code",
   "execution_count": 38,
   "metadata": {},
   "outputs": [
    {
     "data": {
      "text/plain": [
       "<Figure size 432x288 with 0 Axes>"
      ]
     },
     "metadata": {},
     "output_type": "display_data"
    }
   ],
   "source": [
    "import numpy as np\n",
    "import matplotlib\n",
    "import matplotlib.pyplot as plt\n",
    "\n",
    "\n",
    "fig = plt.figure()\n",
    "img = plt.imread(\"airlines.jpg\")\n",
    "Z = np.arange(10000).reshape((100, 100))\n",
    "Z[:, 50:] = 1\n",
    "\n",
    "plt.figimage(img, xo=50, yo=0, origin='lower')\n",
    "plt.figimage(Z, xo=100, yo=100, alpha=.8, origin='lower')\n",
    "\n",
    "plt.show()"
   ]
  },
  {
   "cell_type": "code",
   "execution_count": 40,
   "metadata": {},
   "outputs": [
    {
     "data": {
      "image/png": "[encoded data removed]",
      "text/plain": [
       "<Figure size 432x288 with 1 Axes>"
      ]
     },
     "metadata": {
      "needs_background": "light"
     },
     "output_type": "display_data"
    }
   ],
   "source": [
    "import numpy as np\n",
    "import matplotlib.pyplot as plt\n",
    "import matplotlib.animation as animation\n",
    "\n",
    "fig = plt.figure()\n",
    "\n",
    "\n",
    "def f(x, y):\n",
    "    return np.sin(x) + np.cos(y)\n",
    "\n",
    "x = np.linspace(0, 2 * np.pi, 120)\n",
    "y = np.linspace(0, 2 * np.pi, 100).reshape(-1, 1)\n",
    "# ims is a list of lists, each row is a list of artists to draw in the\n",
    "# current frame; here we are just animating one artist, the image, in\n",
    "# each frame\n",
    "ims = []\n",
    "for i in range(60):\n",
    "    x += np.pi / 15.\n",
    "    y += np.pi / 20.\n",
    "    im = plt.imshow(f(x, y), animated=True)\n",
    "    ims.append([im])\n",
    "\n",
    "ani = animation.ArtistAnimation(fig, ims, interval=50, blit=True,\n",
    "                                repeat_delay=1000)\n",
    "\n",
    "# To save the animation, use e.g.\n",
    "#\n",
    "# ani.save(\"movie.mp4\")\n",
    "#\n",
    "# or\n",
    "#\n",
    "# from matplotlib.animation import FFMpegWriter\n",
    "# writer = FFMpegWriter(fps=15, metadata=dict(artist='Me'), bitrate=1800)\n",
    "# ani.save(\"movie.mp4\", writer=writer)\n",
    "\n",
    "plt.show()"
   ]
  },
  {
   "cell_type": "code",
   "execution_count": 47,
   "metadata": {},
   "outputs": [
    {
     "data": {
      "image/png": "[encoded data removed]",
      "text/plain": [
       "<Figure size 432x288 with 1 Axes>"
      ]
     },
     "metadata": {
      "needs_background": "light"
     },
     "output_type": "display_data"
    }
   ],
   "source": [
    "from numpy import sin, cos\n",
    "import numpy as np\n",
    "import matplotlib.pyplot as plt\n",
    "import scipy.integrate as integrate\n",
    "import matplotlib.animation as animation\n",
    "\n",
    "class DoublePendulum:\n",
    "    \"\"\"Double Pendulum Class\n",
    "\n",
    "    init_state is [theta1, omega1, theta2, omega2] in degrees,\n",
    "    where theta1, omega1 is the angular position and velocity of the first\n",
    "    pendulum arm, and theta2, omega2 is that of the second pendulum arm\n",
    "    \"\"\"\n",
    "    def __init__(self,\n",
    "                 init_state = [120, 0, -20, 0],\n",
    "                 L1=1.0,  # length of pendulum 1 in m\n",
    "                 L2=1.0,  # length of pendulum 2 in m\n",
    "                 M1=1.0,  # mass of pendulum 1 in kg\n",
    "                 M2=1.0,  # mass of pendulum 2 in kg\n",
    "                 G=9.8,  # acceleration due to gravity, in m/s^2\n",
    "                 origin=(0, 0)): \n",
    "        self.init_state = np.asarray(init_state, dtype='float')\n",
    "        self.params = (L1, L2, M1, M2, G)\n",
    "        self.origin = origin\n",
    "        self.time_elapsed = 0\n",
    "\n",
    "        self.state = self.init_state * np.pi / 180.\n",
    "    \n",
    "    def position(self):\n",
    "        \"\"\"compute the current x,y positions of the pendulum arms\"\"\"\n",
    "        (L1, L2, M1, M2, G) = self.params\n",
    "\n",
    "        x = np.cumsum([self.origin[0],\n",
    "                       L1 * sin(self.state[0]),\n",
    "                       L2 * sin(self.state[2])])\n",
    "        y = np.cumsum([self.origin[1],\n",
    "                       -L1 * cos(self.state[0]),\n",
    "                       -L2 * cos(self.state[2])])\n",
    "        return (x, y)\n",
    "\n",
    "    def energy(self):\n",
    "        \"\"\"compute the energy of the current state\"\"\"\n",
    "        (L1, L2, M1, M2, G) = self.params\n",
    "\n",
    "        x = np.cumsum([L1 * sin(self.state[0]),\n",
    "                       L2 * sin(self.state[2])])\n",
    "        y = np.cumsum([-L1 * cos(self.state[0]),\n",
    "                       -L2 * cos(self.state[2])])\n",
    "        vx = np.cumsum([L1 * self.state[1] * cos(self.state[0]),\n",
    "                        L2 * self.state[3] * cos(self.state[2])])\n",
    "        vy = np.cumsum([L1 * self.state[1] * sin(self.state[0]),\n",
    "                        L2 * self.state[3] * sin(self.state[2])])\n",
    "\n",
    "        U = G * (M1 * y[0] + M2 * y[1])\n",
    "        K = 0.5 * (M1 * np.dot(vx, vx) + M2 * np.dot(vy, vy))\n",
    "\n",
    "        return U + K\n",
    "\n",
    "    def dstate_dt(self, state, t):\n",
    "        \"\"\"compute the derivative of the given state\"\"\"\n",
    "        (M1, M2, L1, L2, G) = self.params\n",
    "\n",
    "        dydx = np.zeros_like(state)\n",
    "        dydx[0] = state[1]\n",
    "        dydx[2] = state[3]\n",
    "\n",
    "        cos_delta = cos(state[2] - state[0])\n",
    "        sin_delta = sin(state[2] - state[0])\n",
    "\n",
    "        den1 = (M1 + M2) * L1 - M2 * L1 * cos_delta * cos_delta\n",
    "        dydx[1] = (M2 * L1 * state[1] * state[1] * sin_delta * cos_delta\n",
    "                   + M2 * G * sin(state[2]) * cos_delta\n",
    "                   + M2 * L2 * state[3] * state[3] * sin_delta\n",
    "                   - (M1 + M2) * G * sin(state[0])) / den1\n",
    "\n",
    "        den2 = (L2 / L1) * den1\n",
    "        dydx[3] = (-M2 * L2 * state[3] * state[3] * sin_delta * cos_delta\n",
    "                   + (M1 + M2) * G * sin(state[0]) * cos_delta\n",
    "                   - (M1 + M2) * L1 * state[1] * state[1] * sin_delta\n",
    "                   - (M1 + M2) * G * sin(state[2])) / den2\n",
    "        \n",
    "        return dydx\n",
    "\n",
    "    def step(self, dt):\n",
    "        \"\"\"execute one time step of length dt and update state\"\"\"\n",
    "        self.state = integrate.odeint(self.dstate_dt, self.state, [0, dt])[1]\n",
    "        self.time_elapsed += dt\n",
    "\n",
    "#------------------------------------------------------------\n",
    "# set up initial state and global variables\n",
    "pendulum = DoublePendulum([180., 0.0, -20., 0.0])\n",
    "dt = 1./30 # 30 fps\n",
    "\n",
    "#------------------------------------------------------------\n",
    "# set up figure and animation\n",
    "fig = plt.figure()\n",
    "ax = fig.add_subplot(111, aspect='equal', autoscale_on=False,\n",
    "                     xlim=(-2, 2), ylim=(-2, 2))\n",
    "ax.grid()\n",
    "\n",
    "line, = ax.plot([], [], 'o-', lw=2)\n",
    "time_text = ax.text(0.02, 0.95, '', transform=ax.transAxes)\n",
    "energy_text = ax.text(0.02, 0.90, '', transform=ax.transAxes)\n",
    "\n",
    "def init():\n",
    "    \"\"\"initialize animation\"\"\"\n",
    "    line.set_data([], [])\n",
    "    time_text.set_text('')\n",
    "    energy_text.set_text('')\n",
    "    return line, time_text, energy_text\n",
    "\n",
    "def animate(i):\n",
    "    \"\"\"perform animation step\"\"\"\n",
    "    global pendulum, dt\n",
    "    pendulum.step(dt)\n",
    "    \n",
    "    line.set_data(*pendulum.position())\n",
    "    time_text.set_text('time = %.1f' % pendulum.time_elapsed)\n",
    "    energy_text.set_text('energy = %.3f J' % pendulum.energy())\n",
    "    return line, time_text, energy_text\n",
    "\n",
    "# choose the interval based on dt and the time to animate one step\n",
    "from time import time\n",
    "t0 = time()\n",
    "animate(0)\n",
    "t1 = time()\n",
    "interval = 1000 * dt - (t1 - t0)\n",
    "\n",
    "ani = animation.FuncAnimation(fig, animate, frames=300,\n",
    "                              interval=interval, blit=True, init_func=init)\n",
    "\n",
    "# save the animation as an mp4.  This requires ffmpeg or mencoder to be\n",
    "# installed.  The extra_args ensure that the x264 codec is used, so that\n",
    "# the video can be embedded in html5.  You may need to adjust this for\n",
    "# your system: for more information, see\n",
    "# http://matplotlib.sourceforge.net/api/animation_api.html\n",
    "#ani.save('double_pendulum.mp4', fps=30, extra_args=['-vcodec', 'libx264'])\n",
    "\n",
    "plt.show()"
   ]
  },
  {
   "cell_type": "code",
   "execution_count": null,
   "metadata": {},
   "outputs": [],
   "source": []
  }
 ],
 "metadata": {
  "kernelspec": {
   "display_name": "Python 3",
   "language": "python",
   "name": "python3"
  },
  "language_info": {
   "codemirror_mode": {
    "name": "ipython",
    "version": 3
   },
   "file_extension": ".py",
   "mimetype": "text/x-python",
   "name": "python",
   "nbconvert_exporter": "python",
   "pygments_lexer": "ipython3",
   "version": "3.6.8"
  }
 },
 "nbformat": 4,
 "nbformat_minor": 2
}
